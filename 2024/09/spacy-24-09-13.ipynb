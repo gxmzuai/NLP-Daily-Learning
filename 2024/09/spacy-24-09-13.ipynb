{
 "cells": [
  {
   "cell_type": "markdown",
   "id": "72f47996",
   "metadata": {},
   "source": [
    "## 词向量和spaCy求句子的相似度。"
   ]
  },
  {
   "cell_type": "code",
   "execution_count": 1,
   "id": "0f0b78d5-3eb3-43fd-bfb5-cc3c8a6f328f",
   "metadata": {
    "tags": []
   },
   "outputs": [],
   "source": [
    "# 导入spacy库\n",
    "import spacy"
   ]
  },
  {
   "cell_type": "code",
   "execution_count": 3,
   "id": "663eb00f-a537-4d81-bb15-eedc44ab8e76",
   "metadata": {
    "tags": []
   },
   "outputs": [
    {
     "name": "stdout",
     "output_type": "stream",
     "text": [
      "Looking in indexes: http://mirrors.aliyun.com/pypi/simple\n",
      "Collecting en-core-web-md==3.7.1\n",
      "  Downloading https://github.com/explosion/spacy-models/releases/download/en_core_web_md-3.7.1/en_core_web_md-3.7.1-py3-none-any.whl (42.8 MB)\n",
      "\u001b[2K     \u001b[90m━━━━━━━━━━━━━━━━━━━━━━━━━━━━━━━━━━━━━━━━\u001b[0m \u001b[32m42.8/42.8 MB\u001b[0m \u001b[31m33.5 MB/s\u001b[0m eta \u001b[36m0:00:00\u001b[0m00:01\u001b[0m00:01\u001b[0m\n",
      "\u001b[?25hRequirement already satisfied: spacy<3.8.0,>=3.7.2 in /root/miniconda3/envs/spacy-tutorial/lib/python3.11/site-packages (from en-core-web-md==3.7.1) (3.7.5)\n",
      "Requirement already satisfied: spacy-legacy<3.1.0,>=3.0.11 in /root/miniconda3/envs/spacy-tutorial/lib/python3.11/site-packages (from spacy<3.8.0,>=3.7.2->en-core-web-md==3.7.1) (3.0.12)\n",
      "Requirement already satisfied: spacy-loggers<2.0.0,>=1.0.0 in /root/miniconda3/envs/spacy-tutorial/lib/python3.11/site-packages (from spacy<3.8.0,>=3.7.2->en-core-web-md==3.7.1) (1.0.5)\n",
      "Requirement already satisfied: murmurhash<1.1.0,>=0.28.0 in /root/miniconda3/envs/spacy-tutorial/lib/python3.11/site-packages (from spacy<3.8.0,>=3.7.2->en-core-web-md==3.7.1) (1.0.10)\n",
      "Requirement already satisfied: cymem<2.1.0,>=2.0.2 in /root/miniconda3/envs/spacy-tutorial/lib/python3.11/site-packages (from spacy<3.8.0,>=3.7.2->en-core-web-md==3.7.1) (2.0.8)\n",
      "Requirement already satisfied: preshed<3.1.0,>=3.0.2 in /root/miniconda3/envs/spacy-tutorial/lib/python3.11/site-packages (from spacy<3.8.0,>=3.7.2->en-core-web-md==3.7.1) (3.0.9)\n",
      "Requirement already satisfied: thinc<8.3.0,>=8.2.2 in /root/miniconda3/envs/spacy-tutorial/lib/python3.11/site-packages (from spacy<3.8.0,>=3.7.2->en-core-web-md==3.7.1) (8.2.5)\n",
      "Requirement already satisfied: wasabi<1.2.0,>=0.9.1 in /root/miniconda3/envs/spacy-tutorial/lib/python3.11/site-packages (from spacy<3.8.0,>=3.7.2->en-core-web-md==3.7.1) (1.1.2)\n",
      "Requirement already satisfied: srsly<3.0.0,>=2.4.3 in /root/miniconda3/envs/spacy-tutorial/lib/python3.11/site-packages (from spacy<3.8.0,>=3.7.2->en-core-web-md==3.7.1) (2.4.8)\n",
      "Requirement already satisfied: catalogue<2.1.0,>=2.0.6 in /root/miniconda3/envs/spacy-tutorial/lib/python3.11/site-packages (from spacy<3.8.0,>=3.7.2->en-core-web-md==3.7.1) (2.0.10)\n",
      "Requirement already satisfied: weasel<0.5.0,>=0.1.0 in /root/miniconda3/envs/spacy-tutorial/lib/python3.11/site-packages (from spacy<3.8.0,>=3.7.2->en-core-web-md==3.7.1) (0.4.1)\n",
      "Requirement already satisfied: typer<1.0.0,>=0.3.0 in /root/miniconda3/envs/spacy-tutorial/lib/python3.11/site-packages (from spacy<3.8.0,>=3.7.2->en-core-web-md==3.7.1) (0.12.5)\n",
      "Requirement already satisfied: tqdm<5.0.0,>=4.38.0 in /root/miniconda3/envs/spacy-tutorial/lib/python3.11/site-packages (from spacy<3.8.0,>=3.7.2->en-core-web-md==3.7.1) (4.66.5)\n",
      "Requirement already satisfied: requests<3.0.0,>=2.13.0 in /root/miniconda3/envs/spacy-tutorial/lib/python3.11/site-packages (from spacy<3.8.0,>=3.7.2->en-core-web-md==3.7.1) (2.32.3)\n",
      "Requirement already satisfied: pydantic!=1.8,!=1.8.1,<3.0.0,>=1.7.4 in /root/miniconda3/envs/spacy-tutorial/lib/python3.11/site-packages (from spacy<3.8.0,>=3.7.2->en-core-web-md==3.7.1) (2.0.3)\n",
      "Requirement already satisfied: jinja2 in /root/miniconda3/envs/spacy-tutorial/lib/python3.11/site-packages (from spacy<3.8.0,>=3.7.2->en-core-web-md==3.7.1) (3.1.4)\n",
      "Requirement already satisfied: setuptools in /root/miniconda3/envs/spacy-tutorial/lib/python3.11/site-packages (from spacy<3.8.0,>=3.7.2->en-core-web-md==3.7.1) (73.0.1)\n",
      "Requirement already satisfied: packaging>=20.0 in /root/miniconda3/envs/spacy-tutorial/lib/python3.11/site-packages (from spacy<3.8.0,>=3.7.2->en-core-web-md==3.7.1) (24.1)\n",
      "Requirement already satisfied: langcodes<4.0.0,>=3.2.0 in /root/miniconda3/envs/spacy-tutorial/lib/python3.11/site-packages (from spacy<3.8.0,>=3.7.2->en-core-web-md==3.7.1) (3.4.0)\n",
      "Requirement already satisfied: numpy>=1.19.0 in /root/miniconda3/envs/spacy-tutorial/lib/python3.11/site-packages (from spacy<3.8.0,>=3.7.2->en-core-web-md==3.7.1) (1.26.4)\n",
      "Requirement already satisfied: language-data>=1.2 in /root/miniconda3/envs/spacy-tutorial/lib/python3.11/site-packages (from langcodes<4.0.0,>=3.2.0->spacy<3.8.0,>=3.7.2->en-core-web-md==3.7.1) (1.2.0)\n",
      "Requirement already satisfied: annotated-types>=0.4.0 in /root/miniconda3/envs/spacy-tutorial/lib/python3.11/site-packages (from pydantic!=1.8,!=1.8.1,<3.0.0,>=1.7.4->spacy<3.8.0,>=3.7.2->en-core-web-md==3.7.1) (0.7.0)\n",
      "Requirement already satisfied: pydantic-core==2.3.0 in /root/miniconda3/envs/spacy-tutorial/lib/python3.11/site-packages (from pydantic!=1.8,!=1.8.1,<3.0.0,>=1.7.4->spacy<3.8.0,>=3.7.2->en-core-web-md==3.7.1) (2.3.0)\n",
      "Requirement already satisfied: typing-extensions>=4.6.1 in /root/miniconda3/envs/spacy-tutorial/lib/python3.11/site-packages (from pydantic!=1.8,!=1.8.1,<3.0.0,>=1.7.4->spacy<3.8.0,>=3.7.2->en-core-web-md==3.7.1) (4.12.2)\n",
      "Requirement already satisfied: charset-normalizer<4,>=2 in /root/miniconda3/envs/spacy-tutorial/lib/python3.11/site-packages (from requests<3.0.0,>=2.13.0->spacy<3.8.0,>=3.7.2->en-core-web-md==3.7.1) (3.3.2)\n",
      "Requirement already satisfied: idna<4,>=2.5 in /root/miniconda3/envs/spacy-tutorial/lib/python3.11/site-packages (from requests<3.0.0,>=2.13.0->spacy<3.8.0,>=3.7.2->en-core-web-md==3.7.1) (3.8)\n",
      "Requirement already satisfied: urllib3<3,>=1.21.1 in /root/miniconda3/envs/spacy-tutorial/lib/python3.11/site-packages (from requests<3.0.0,>=2.13.0->spacy<3.8.0,>=3.7.2->en-core-web-md==3.7.1) (2.2.2)\n",
      "Requirement already satisfied: certifi>=2017.4.17 in /root/miniconda3/envs/spacy-tutorial/lib/python3.11/site-packages (from requests<3.0.0,>=2.13.0->spacy<3.8.0,>=3.7.2->en-core-web-md==3.7.1) (2024.8.30)\n",
      "Requirement already satisfied: blis<0.8.0,>=0.7.8 in /root/miniconda3/envs/spacy-tutorial/lib/python3.11/site-packages (from thinc<8.3.0,>=8.2.2->spacy<3.8.0,>=3.7.2->en-core-web-md==3.7.1) (0.7.10)\n",
      "Requirement already satisfied: confection<1.0.0,>=0.0.1 in /root/miniconda3/envs/spacy-tutorial/lib/python3.11/site-packages (from thinc<8.3.0,>=8.2.2->spacy<3.8.0,>=3.7.2->en-core-web-md==3.7.1) (0.1.4)\n",
      "Requirement already satisfied: click>=8.0.0 in /root/miniconda3/envs/spacy-tutorial/lib/python3.11/site-packages (from typer<1.0.0,>=0.3.0->spacy<3.8.0,>=3.7.2->en-core-web-md==3.7.1) (8.1.7)\n",
      "Requirement already satisfied: shellingham>=1.3.0 in /root/miniconda3/envs/spacy-tutorial/lib/python3.11/site-packages (from typer<1.0.0,>=0.3.0->spacy<3.8.0,>=3.7.2->en-core-web-md==3.7.1) (1.5.4)\n",
      "Requirement already satisfied: rich>=10.11.0 in /root/miniconda3/envs/spacy-tutorial/lib/python3.11/site-packages (from typer<1.0.0,>=0.3.0->spacy<3.8.0,>=3.7.2->en-core-web-md==3.7.1) (13.7.1)\n",
      "Requirement already satisfied: cloudpathlib<1.0.0,>=0.7.0 in /root/miniconda3/envs/spacy-tutorial/lib/python3.11/site-packages (from weasel<0.5.0,>=0.1.0->spacy<3.8.0,>=3.7.2->en-core-web-md==3.7.1) (0.19.0)\n",
      "Requirement already satisfied: smart-open<8.0.0,>=5.2.1 in /root/miniconda3/envs/spacy-tutorial/lib/python3.11/site-packages (from weasel<0.5.0,>=0.1.0->spacy<3.8.0,>=3.7.2->en-core-web-md==3.7.1) (7.0.4)\n",
      "Requirement already satisfied: MarkupSafe>=2.0 in /root/miniconda3/envs/spacy-tutorial/lib/python3.11/site-packages (from jinja2->spacy<3.8.0,>=3.7.2->en-core-web-md==3.7.1) (2.1.5)\n",
      "Requirement already satisfied: marisa-trie>=0.7.7 in /root/miniconda3/envs/spacy-tutorial/lib/python3.11/site-packages (from language-data>=1.2->langcodes<4.0.0,>=3.2.0->spacy<3.8.0,>=3.7.2->en-core-web-md==3.7.1) (1.1.0)\n",
      "Requirement already satisfied: markdown-it-py>=2.2.0 in /root/miniconda3/envs/spacy-tutorial/lib/python3.11/site-packages (from rich>=10.11.0->typer<1.0.0,>=0.3.0->spacy<3.8.0,>=3.7.2->en-core-web-md==3.7.1) (3.0.0)\n",
      "Requirement already satisfied: pygments<3.0.0,>=2.13.0 in /root/miniconda3/envs/spacy-tutorial/lib/python3.11/site-packages (from rich>=10.11.0->typer<1.0.0,>=0.3.0->spacy<3.8.0,>=3.7.2->en-core-web-md==3.7.1) (2.18.0)\n",
      "Requirement already satisfied: wrapt in /root/miniconda3/envs/spacy-tutorial/lib/python3.11/site-packages (from smart-open<8.0.0,>=5.2.1->weasel<0.5.0,>=0.1.0->spacy<3.8.0,>=3.7.2->en-core-web-md==3.7.1) (1.16.0)\n",
      "Requirement already satisfied: mdurl~=0.1 in /root/miniconda3/envs/spacy-tutorial/lib/python3.11/site-packages (from markdown-it-py>=2.2.0->rich>=10.11.0->typer<1.0.0,>=0.3.0->spacy<3.8.0,>=3.7.2->en-core-web-md==3.7.1) (0.1.2)\n",
      "Installing collected packages: en-core-web-md\n",
      "Successfully installed en-core-web-md-3.7.1\n",
      "\u001b[33mWARNING: Running pip as the 'root' user can result in broken permissions and conflicting behaviour with the system package manager, possibly rendering your system unusable.It is recommended to use a virtual environment instead: https://pip.pypa.io/warnings/venv. Use the --root-user-action option if you know what you are doing and want to suppress this warning.\u001b[0m\u001b[33m\n",
      "\u001b[0m\u001b[38;5;2m✔ Download and installation successful\u001b[0m\n",
      "You can now load the package via spacy.load('en_core_web_md')\n"
     ]
    }
   ],
   "source": [
    "# 使用特定环境中的Python下载英语中型模型\n",
    "!/root/miniconda3/envs/spacy-tutorial/bin/python -m spacy download en_core_web_md"
   ]
  },
  {
   "cell_type": "code",
   "execution_count": 4,
   "id": "45ecf3e8-e693-4f07-8a25-2080d4ac6ae7",
   "metadata": {
    "tags": []
   },
   "outputs": [],
   "source": [
    "# 加载英语中型模型\n",
    "nlp = spacy.load(\"en_core_web_md\")"
   ]
  },
  {
   "cell_type": "code",
   "execution_count": 5,
   "id": "dd4a96d7-07b2-463a-a8ce-6e216c62af7b",
   "metadata": {
    "tags": []
   },
   "outputs": [],
   "source": [
    "# 从文件中读取文本\n",
    "with open(\"data/wiki_us.txt\", \"r\") as f:\n",
    "    text = f.read()"
   ]
  },
  {
   "cell_type": "code",
   "execution_count": 6,
   "id": "3be3eac2-1e35-49a1-ae5a-fa28711f4ad8",
   "metadata": {
    "tags": []
   },
   "outputs": [],
   "source": [
    "# 使用spacy处理文本\n",
    "doc = nlp(text)"
   ]
  },
  {
   "cell_type": "code",
   "execution_count": 7,
   "id": "a72ca9cf-48b5-4e4a-9c8f-09d98976698f",
   "metadata": {
    "tags": []
   },
   "outputs": [],
   "source": [
    "# 获取文档中的第一个句子\n",
    "sentence1 = list(doc.sents)[0]"
   ]
  },
  {
   "cell_type": "code",
   "execution_count": 8,
   "id": "04bab236-b3c0-40b5-bed0-7c3422cdb787",
   "metadata": {
    "tags": []
   },
   "outputs": [
    {
     "data": {
      "text/plain": [
       "The United States of America (U.S.A. or USA), commonly known as the United States (U.S. or US) or America, is a country primarily located in North America."
      ]
     },
     "execution_count": 8,
     "metadata": {},
     "output_type": "execute_result"
    }
   ],
   "source": [
    "# 打印第一个句子\n",
    "sentence1"
   ]
  },
  {
   "cell_type": "code",
   "execution_count": 9,
   "id": "615e2ef6-94ab-42b2-ac19-050133348778",
   "metadata": {
    "tags": []
   },
   "outputs": [],
   "source": [
    "# 导入numpy库\n",
    "import numpy as np"
   ]
  },
  {
   "cell_type": "code",
   "execution_count": 10,
   "id": "edc80601-3738-4ce3-b24c-a46553ae82fd",
   "metadata": {
    "tags": []
   },
   "outputs": [],
   "source": [
    "# 定义一个单词\n",
    "your_word = \"country\""
   ]
  },
  {
   "cell_type": "code",
   "execution_count": 11,
   "id": "1be427f6-b4ba-46fe-af86-d031b8f39b32",
   "metadata": {
    "tags": []
   },
   "outputs": [],
   "source": [
    "# 查找与给定单词最相似的10个单词\n",
    "# 涉及词向量的计算和比较\n",
    "ms = nlp.vocab.vectors.most_similar(\n",
    "    np.asarray([nlp.vocab.vectors[nlp.vocab.strings[your_word]]]), n=10)"
   ]
  },
  {
   "cell_type": "markdown",
   "id": "1800e8c0",
   "metadata": {},
   "source": [
    "代码解释：\n",
    "\n",
    "当然可以。我来为你详细拆解这行代码：\n",
    "\n",
    "```python:/Users/jiakai/Downloads/demo2.ipynb\n",
    "ms = nlp.vocab.vectors.most_similar(\n",
    "    np.asarray([nlp.vocab.vectors[nlp.vocab.strings[your_word]]]), n=10)\n",
    "```\n",
    "\n",
    "让我们从里到外逐步解析：\n",
    "\n",
    "1. `your_word`: 这是你之前定义的要查找相似词的单词。\n",
    "\n",
    "2. `nlp.vocab.strings[your_word]`: \n",
    "   - `nlp.vocab` 是词汇表对象\n",
    "   - `strings` 是一个双向映射，可以通过字符串找到对应的哈希值\n",
    "   - 这步操作将 `your_word` 转换为其在词汇表中的唯一标识符（哈希值）\n",
    "\n",
    "3. `nlp.vocab.vectors[...]`: \n",
    "   - `vectors` 存储了词汇表中每个词的向量表示\n",
    "   - 这步使用上一步得到的标识符来获取 `your_word` 的词向量\n",
    "\n",
    "4. `np.asarray([...])`: \n",
    "   - 将获取的词向量转换为NumPy数组\n",
    "   - 这里用方括号包裹是因为 `most_similar` 方法期望输入是一个二维数组\n",
    "\n",
    "5. `nlp.vocab.vectors.most_similar(...)`: \n",
    "   - `most_similar` 是一个方法，用于找到与给定向量最相似的其他向量\n",
    "   - 它接受一个向量（或向量数组）作为输入\n",
    "   - `n=10` 参数指定要返回的最相似词的数量\n",
    "\n",
    "6. `ms =`: 将结果赋值给变量 `ms`\n",
    "\n",
    "总结：这行代码的作用是找出与 `your_word` 最相似的10个词。它首先获取 `your_word` 的词向量，然后在整个词汇表的向量空间中寻找最接近这个向量的其他10个向量，这些向量对应的词就是最相似的词。\n",
    "\n",
    "这种方法利用了词向量的特性：在向量空间中，语义相近的词的向量往往也较为接近。\n",
    "\n",
    "词向量的主要使用发生在 most_similar() 方法内部。这个方法会：\n",
    "计算输入向量（\"country\" 的词向量）与词汇表中所有其他词的向量之间的相似度。\n",
    "根据相似度对所有词进行排序。\n",
    "返回前 n 个最相似的词的索引（在这个例子中 n=10）。\n",
    "这个过程大量使用了词向量，但是所有的向量计算都在 most_similar() 方法内部进行，我们看不到具体的计算过程。"
   ]
  },
  {
   "cell_type": "code",
   "execution_count": null,
   "id": "f5d725f9-34ab-4117-b2b0-124ad0ea2f6c",
   "metadata": {
    "tags": []
   },
   "outputs": [],
   "source": [
    "# 获取相似单词的字符串表示\n",
    "words = [nlp.vocab.strings[w] for w in ms[0][0]]"
   ]
  },
  {
   "cell_type": "markdown",
   "id": "57bd829a",
   "metadata": {},
   "source": [
    "代码解释：\n",
    "\n",
    "当然，我来解析这行代码：\n",
    "\n",
    "```python:/Users/jiakai/Downloads/demo2.ipynb\n",
    "# 获取相似单词的字符串表示\n",
    "words = [nlp.vocab.strings[w] for w in ms[0][0]]\n",
    "```\n",
    "\n",
    "这行代码的目的是获取之前找到的最相似单词的字符串表示。让我们逐步分析：\n",
    "\n",
    "1. `ms`: 这是之前 `most_similar()` 方法返回的结果。它通常是一个包含多个元素的元组。\n",
    "\n",
    "2. `ms[0]`: 这是获取元组中的第一个元素。在 `most_similar()` 的返回值中，第一个元素通常是一个包含相似词索引的数组。\n",
    "\n",
    "3. `ms[0][0]`: 这进一步获取了第一个元素中的第一个元素。这可能是因为 `most_similar()` 返回的结果被包装在了一个额外的列表中。\n",
    "\n",
    "4. `[w for w in ms[0][0]]`: 这是一个列表推导式，遍历 `ms[0][0]` 中的每个元素（每个元素是一个相似词的索引）。\n",
    "\n",
    "5. `nlp.vocab.strings[w]`: 对于每个索引 `w`，这行代码使用 `nlp.vocab.strings` 将索引转换回对应的字符串（即单词）。\n",
    "\n",
    "6. 最后，整个列表推导式的结果被赋值给 `words` 变量，这样 `words` 就包含了所有相似单词的字符串表示。\n",
    "\n",
    "使用 `ms[0][0]` 而不是直接使用 `ms` 或 `ms[0]` 可能是因为 `most_similar()` 方法返回的数据结构有多层嵌套。具体的结构可能如下：\n",
    "\n",
    "- `ms` 是一个元组\n",
    "- `ms[0]` 是一个列表\n",
    "- `ms[0][0]` 是包含实际相似词索引的数组\n",
    "\n",
    "如果想确认这种结构，可以尝试打印 `ms`、`ms[0]` 和 `ms[0][0]` 来查看它们的内容和结构。这样可以更好地理解为什么需要使用 `ms[0][0]`。\n",
    "\n",
    "感谢你提供 `ms[0]` 的结果。这个输出帮助我们更好地理解代码的结构。让我解释一下这个结果：\n",
    "\n",
    "```python:/Users/jiakai/Downloads/demo2.ipynb\n",
    "array([[12389239844680878404,  1435501296278296988,  3205366385982613224,\n",
    "        10101261077591962824, 10067128433980916117, 13467190378500458811,\n",
    "         7523086094447079607,  4411440909759659592,  3830018849180425586,\n",
    "          769100778973147158]], dtype=uint64)\n",
    "```\n",
    "\n",
    "1. 这是一个 NumPy 数组（`np.array`）。\n",
    "2. 数组的类型是 `uint64`，表示无符号 64 位整数。\n",
    "3. 数组是二维的，但只有一行（注意外层的方括号）。\n",
    "4. 每个数字都是一个很大的整数，这些可能是词汇表中单词的唯一标识符或哈希值。\n",
    "\n",
    "基于这个结果，我们可以更新对代码的理解：\n",
    "\n",
    "```python:/Users/jiakai/Downloads/demo2.ipynb\n",
    "# 获取相似单词的字符串表示\n",
    "words = [nlp.vocab.strings[w] for w in ms[0][0]]\n",
    "```\n",
    "\n",
    "1. `ms[0]` 已经是一个包含所有相似词标识符的数组。\n",
    "2. `ms[0][0]` 用于获取这个数组中的所有元素（因为数组是二维的，但只有一行）。\n",
    "3. 列表推导式遍历这些标识符，并使用 `nlp.vocab.strings` 将每个标识符转换回对应的字符串（单词）。\n",
    "\n",
    "所以，使用 `ms[0][0]` 是正确的，因为它确保我们获取到数组中的所有元素。如果直接使用 `ms[0]`，我们会得到一个二维数组，这不是我们想要的。\n",
    "\n",
    "这种结构（二维数组但只有一行）可能是 spaCy 的 `most_similar()` 方法的特定返回格式，可能是为了保持与可能返回多行结果的情况的一致性。"
   ]
  },
  {
   "cell_type": "code",
   "execution_count": null,
   "id": "71a7c16c-2aaf-4dfe-9562-ac2a28d9c06a",
   "metadata": {
    "tags": []
   },
   "outputs": [],
   "source": [
    "# 获取相似度距离\n",
    "distances = ms[2]"
   ]
  },
  {
   "cell_type": "code",
   "execution_count": 14,
   "id": "55c6ca72-8386-4635-8e96-4145a68e1446",
   "metadata": {
    "tags": []
   },
   "outputs": [
    {
     "data": {
      "text/plain": [
       "['country—0,467',\n",
       " 'nationâ\\x80\\x99s',\n",
       " 'countries-',\n",
       " 'continente',\n",
       " 'Carnations',\n",
       " 'pastille',\n",
       " 'бесплатно',\n",
       " 'Argents',\n",
       " 'Tywysogion',\n",
       " 'Teeters']"
      ]
     },
     "execution_count": 14,
     "metadata": {},
     "output_type": "execute_result"
    }
   ],
   "source": [
    "# 打印相似单词列表\n",
    "words"
   ]
  },
  {
   "cell_type": "code",
   "execution_count": 15,
   "id": "ffb484e8-1d2c-4cbe-84f5-cf3016f0d13c",
   "metadata": {
    "tags": []
   },
   "outputs": [],
   "source": [
    "# 创建一个新的文档对象\n",
    "doc1 = nlp(\"I like salty fries and hamburgers.\")"
   ]
  },
  {
   "cell_type": "code",
   "execution_count": 16,
   "id": "df0c3abc-ec05-4307-bb2a-51f4e24506d6",
   "metadata": {
    "tags": []
   },
   "outputs": [],
   "source": [
    "# 创建另一个新的文档对象\n",
    "doc2 = nlp(\"Fast food tastes very good.\")"
   ]
  },
  {
   "cell_type": "code",
   "execution_count": 17,
   "id": "a4bdc9cd-3ceb-4804-ab72-38070a093d1c",
   "metadata": {
    "tags": []
   },
   "outputs": [
    {
     "name": "stdout",
     "output_type": "stream",
     "text": [
      "I like salty fries and hamburgers. <-> Fast food tastes very good. 0.691649353055761\n"
     ]
    }
   ],
   "source": [
    "# 打印两个文档对象的相似度\n",
    "print(doc1, \"<->\", doc2, doc1.similarity(doc2))"
   ]
  },
  {
   "cell_type": "code",
   "execution_count": 18,
   "id": "ee711c4c-21e6-4a6d-a833-a57ff569044d",
   "metadata": {
    "tags": []
   },
   "outputs": [],
   "source": [
    "# 创建第三个文档对象\n",
    "doc3 = nlp(\"The Empire State Building is in new York.\")"
   ]
  },
  {
   "cell_type": "code",
   "execution_count": 20,
   "id": "152c67ac-2500-4e27-8677-40dd55d358cc",
   "metadata": {
    "tags": []
   },
   "outputs": [
    {
     "name": "stdout",
     "output_type": "stream",
     "text": [
      "I like salty fries and hamburgers. <-> The Empire State Building is in new York. 0.25291676547652614\n"
     ]
    }
   ],
   "source": [
    "# 打印第一个和第三个文档对象的相似度\n",
    "print(doc1, \"<->\", doc3, doc1.similarity(doc3))"
   ]
  },
  {
   "cell_type": "code",
   "execution_count": 21,
   "id": "5b3436ce-dd9e-453d-9bf4-c6718b8bc7f8",
   "metadata": {
    "tags": []
   },
   "outputs": [],
   "source": [
    "# 创建第四个文档对象\n",
    "doc4 = nlp(\"I enjoy oranges.\")"
   ]
  },
  {
   "cell_type": "code",
   "execution_count": 22,
   "id": "24075384-6ef0-4b13-bc75-3a87b4b095e2",
   "metadata": {
    "tags": []
   },
   "outputs": [],
   "source": [
    "# 创建第五个文档对象\n",
    "doc5 = nlp(\"I enjoy apples.\")"
   ]
  },
  {
   "cell_type": "code",
   "execution_count": 25,
   "id": "9a055e40-8086-4cea-b8e8-833a6aa53bf0",
   "metadata": {
    "tags": []
   },
   "outputs": [
    {
     "name": "stdout",
     "output_type": "stream",
     "text": [
      "I enjoy oranges. <-> I enjoy apples. 0.9775702131220241\n"
     ]
    }
   ],
   "source": [
    "# 打印第四个和第五个文档对象的相似度\n",
    "print(doc4, \"<->\", doc5, doc4.similarity(doc5))"
   ]
  },
  {
   "cell_type": "code",
   "execution_count": 26,
   "id": "d39d4409-86cb-47e6-8b62-3cbdbeb01df1",
   "metadata": {
    "tags": []
   },
   "outputs": [],
   "source": [
    "# 创建第六个文档对象\n",
    "doc6 = nlp(\"I enjoy burgers.\")"
   ]
  },
  {
   "cell_type": "code",
   "execution_count": 28,
   "id": "025a29ee-8ca9-4c63-890d-de73b05cd18a",
   "metadata": {
    "tags": []
   },
   "outputs": [
    {
     "name": "stdout",
     "output_type": "stream",
     "text": [
      "I enjoy oranges. <-> I enjoy burgers. 0.9628307469536478\n"
     ]
    }
   ],
   "source": [
    "# 打印第四个和第六个文档对象的相似度\n",
    "print(doc4, \"<->\", doc6, doc4.similarity(doc6))"
   ]
  },
  {
   "cell_type": "code",
   "execution_count": 29,
   "id": "abc25632-6c75-4472-ac87-25f9372096be",
   "metadata": {
    "tags": []
   },
   "outputs": [],
   "source": [
    "# 从第一个文档中提取\"salty fries\"这个短语\n",
    "french_fries = doc1[2:4]"
   ]
  },
  {
   "cell_type": "code",
   "execution_count": 30,
   "id": "6ef4a0e6-95ae-42a8-a452-344f697c6e06",
   "metadata": {
    "tags": []
   },
   "outputs": [],
   "source": [
    "# 从第一个文档中提取\"hamburgers\"这个词\n",
    "burgers = doc1[5]"
   ]
  },
  {
   "cell_type": "code",
   "execution_count": 32,
   "id": "44c305e0-a9dc-4d0c-8398-610f920c0060",
   "metadata": {
    "tags": []
   },
   "outputs": [
    {
     "name": "stdout",
     "output_type": "stream",
     "text": [
      "salty fries <-> hamburgers 0.6938489675521851\n"
     ]
    }
   ],
   "source": [
    "# 打印\"salty fries\"和\"hamburgers\"的相似度\n",
    "print(french_fries, \"<->\", burgers, french_fries.similarity(burgers))"
   ]
  },
  {
   "cell_type": "markdown",
   "id": "bd8013a6",
   "metadata": {},
   "source": [
    "## 补充缺失的pipelines相关的代码\n",
    "\n",
    "![](https://cdn.sa.net/2024/09/14/GaIXLTxfnjduih5.webp)\n",
    "\n",
    "## spaCy的pipelines有啥用？\n",
    "\n",
    "![](https://cdn.sa.net/2024/09/14/lEMHCFO6vsbaWpL.webp)"
   ]
  }
 ],
 "metadata": {
  "kernelspec": {
   "display_name": "Python (spacy-tutorial)",
   "language": "python",
   "name": "spacy-tutorial"
  },
  "language_info": {
   "codemirror_mode": {
    "name": "ipython",
    "version": 3
   },
   "file_extension": ".py",
   "mimetype": "text/x-python",
   "name": "python",
   "nbconvert_exporter": "python",
   "pygments_lexer": "ipython3",
   "version": "3.11.9"
  }
 },
 "nbformat": 4,
 "nbformat_minor": 5
}
