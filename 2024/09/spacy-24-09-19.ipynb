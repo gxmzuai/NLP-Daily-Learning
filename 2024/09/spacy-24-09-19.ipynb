{
 "cells": [
  {
   "cell_type": "markdown",
   "id": "23eaee26",
   "metadata": {},
   "source": [
    "## 学习要点\n",
    "\n",
    "1、添加自定义实体规则\n",
    "\n",
    "2、规则添加位置的重要性\n",
    "\n",
    "- 将实体规则器添加到NER（命名实体识别）组件之前，规则才能有效生效。\n",
    "\n",
    "- 如果规则添加在NER之后，自定义规则可能会被NER的结果覆盖。\n",
    "\n",
    "3、通过自定义规则来增强或修改默认的实体识别结果。"
   ]
  },
  {
   "cell_type": "code",
   "execution_count": 1,
   "id": "db09cffc-c73b-41f9-a286-96734aa2e772",
   "metadata": {
    "tags": []
   },
   "outputs": [],
   "source": [
    "# 导入spacy库\n",
    "import spacy"
   ]
  },
  {
   "cell_type": "code",
   "execution_count": 2,
   "id": "b1e519f8-000a-4a1c-9ce8-96d3dab9dc22",
   "metadata": {
    "tags": []
   },
   "outputs": [],
   "source": [
    "# 加载英语小型核心模型\n",
    "nlp = spacy.load(\"en_core_web_sm\")"
   ]
  },
  {
   "cell_type": "code",
   "execution_count": 6,
   "id": "1468919e-ac70-470d-a613-3342395465b3",
   "metadata": {
    "tags": []
   },
   "outputs": [],
   "source": [
    "# 定义要分析的文本\n",
    "text = \"West Chesterfieldville was referenced in Mr. Deeds.\""
   ]
  },
  {
   "cell_type": "code",
   "execution_count": 7,
   "id": "09dd85bf-33f0-4d3c-9729-743c5d2735c5",
   "metadata": {
    "tags": []
   },
   "outputs": [],
   "source": [
    "# 使用nlp对象处理文本\n",
    "doc = nlp(text)"
   ]
  },
  {
   "cell_type": "code",
   "execution_count": 9,
   "id": "3dea38ec-a33c-4997-b4c6-5f27234d906c",
   "metadata": {
    "tags": []
   },
   "outputs": [
    {
     "data": {
      "text/plain": [
       "West Chesterfieldville was referenced in Mr. Deeds."
      ]
     },
     "execution_count": 9,
     "metadata": {},
     "output_type": "execute_result"
    }
   ],
   "source": [
    "# 打印处理后的文档对象\n",
    "print(doc)"
   ]
  },
  {
   "cell_type": "code",
   "execution_count": 10,
   "id": "cbd39d03-5136-4283-a1e0-5bf1de7cbb78",
   "metadata": {
    "tags": []
   },
   "outputs": [
    {
     "name": "stdout",
     "output_type": "stream",
     "text": [
      "West Chesterfieldville PERSON\n",
      "Deeds PERSON\n"
     ]
    }
   ],
   "source": [
    "# 遍历文档中识别出的所有命名实体并打印\n",
    "# doc.ents 是一个包含所有被识别实体的列表\n",
    "# 每个实体（ent）都是一个 Span 对象，包含文本和标签信息\n",
    "for ent in doc.ents:\n",
    "    # ent.text 是实体的原始文本\n",
    "    # ent.label_ 是实体的类别标签（如人名、地名、组织等）\n",
    "    # 打印每个实体的文本和对应的标签\n",
    "    print(ent.text, ent.label_)"
   ]
  },
  {
   "cell_type": "code",
   "execution_count": 11,
   "id": "71d93b8c-338d-416e-bf7c-a88d1d26a7e1",
   "metadata": {
    "tags": []
   },
   "outputs": [],
   "source": [
    "# 添加实体规则器到nlp管道\n",
    "ruler = nlp.add_pipe(\"entity_ruler\")"
   ]
  },
  {
   "cell_type": "code",
   "execution_count": 12,
   "id": "c9d50c09-3bf6-46c4-96e0-e48dc4d8001e",
   "metadata": {
    "tags": []
   },
   "outputs": [
    {
     "data": {
      "text/plain": [
       "{'summary': {'tok2vec': {'assigns': ['doc.tensor'],\n",
       "   'requires': [],\n",
       "   'scores': [],\n",
       "   'retokenizes': False},\n",
       "  'tagger': {'assigns': ['token.tag'],\n",
       "   'requires': [],\n",
       "   'scores': ['tag_acc'],\n",
       "   'retokenizes': False},\n",
       "  'parser': {'assigns': ['token.dep',\n",
       "    'token.head',\n",
       "    'token.is_sent_start',\n",
       "    'doc.sents'],\n",
       "   'requires': [],\n",
       "   'scores': ['dep_uas',\n",
       "    'dep_las',\n",
       "    'dep_las_per_type',\n",
       "    'sents_p',\n",
       "    'sents_r',\n",
       "    'sents_f'],\n",
       "   'retokenizes': False},\n",
       "  'attribute_ruler': {'assigns': [],\n",
       "   'requires': [],\n",
       "   'scores': [],\n",
       "   'retokenizes': False},\n",
       "  'lemmatizer': {'assigns': ['token.lemma'],\n",
       "   'requires': [],\n",
       "   'scores': ['lemma_acc'],\n",
       "   'retokenizes': False},\n",
       "  'ner': {'assigns': ['doc.ents', 'token.ent_iob', 'token.ent_type'],\n",
       "   'requires': [],\n",
       "   'scores': ['ents_f', 'ents_p', 'ents_r', 'ents_per_type'],\n",
       "   'retokenizes': False},\n",
       "  'entity_ruler': {'assigns': ['doc.ents', 'token.ent_type', 'token.ent_iob'],\n",
       "   'requires': [],\n",
       "   'scores': ['ents_f', 'ents_p', 'ents_r', 'ents_per_type'],\n",
       "   'retokenizes': False}},\n",
       " 'problems': {'tok2vec': [],\n",
       "  'tagger': [],\n",
       "  'parser': [],\n",
       "  'attribute_ruler': [],\n",
       "  'lemmatizer': [],\n",
       "  'ner': [],\n",
       "  'entity_ruler': []},\n",
       " 'attrs': {'token.lemma': {'assigns': ['lemmatizer'], 'requires': []},\n",
       "  'token.is_sent_start': {'assigns': ['parser'], 'requires': []},\n",
       "  'token.dep': {'assigns': ['parser'], 'requires': []},\n",
       "  'doc.sents': {'assigns': ['parser'], 'requires': []},\n",
       "  'doc.tensor': {'assigns': ['tok2vec'], 'requires': []},\n",
       "  'doc.ents': {'assigns': ['ner', 'entity_ruler'], 'requires': []},\n",
       "  'token.ent_iob': {'assigns': ['ner', 'entity_ruler'], 'requires': []},\n",
       "  'token.ent_type': {'assigns': ['ner', 'entity_ruler'], 'requires': []},\n",
       "  'token.tag': {'assigns': ['tagger'], 'requires': []},\n",
       "  'token.head': {'assigns': ['parser'], 'requires': []}}}"
      ]
     },
     "execution_count": 12,
     "metadata": {},
     "output_type": "execute_result"
    }
   ],
   "source": [
    "# 分析nlp对象的管道组件\n",
    "# 这个方法返回一个字典，包含了每个管道组件的详细信息\n",
    "# 包括它们的功能、依赖关系、分配的属性等\n",
    "nlp.analyze_pipes()"
   ]
  },
  {
   "cell_type": "code",
   "execution_count": 13,
   "id": "aab09ca9-2c9f-43db-870b-a1fe3669fd4d",
   "metadata": {
    "tags": []
   },
   "outputs": [],
   "source": [
    "# 定义实体模式\n",
    "patterns = [\n",
    "    {\"label\": \"GPE\", \"pattern\": \"West Chesterfieldville\"}\n",
    "]"
   ]
  },
  {
   "cell_type": "code",
   "execution_count": 14,
   "id": "a2578051-b9a3-4b9c-9307-46785adefdc8",
   "metadata": {
    "tags": []
   },
   "outputs": [],
   "source": [
    "# 将模式添加到规则器\n",
    "ruler.add_patterns(patterns)"
   ]
  },
  {
   "cell_type": "code",
   "execution_count": 15,
   "id": "243924dd-15f2-4c78-bd59-979eb5e6c34d",
   "metadata": {
    "tags": []
   },
   "outputs": [
    {
     "name": "stdout",
     "output_type": "stream",
     "text": [
      "West Chesterfieldville PERSON\n",
      "Deeds PERSON\n"
     ]
    }
   ],
   "source": [
    "# 遍历文档中识别出的所有命名实体并打印\n",
    "# doc.ents 是一个包含所有被识别实体的列表\n",
    "# 每个实体（ent）都是一个 Span 对象，包含文本和标签信息\n",
    "for ent in doc.ents:\n",
    "    # ent.text 是实体的原始文本\n",
    "    # ent.label_ 是实体的类别标签（如人名、地名、组织等）\n",
    "    # 打印每个实体的文本和对应的标签\n",
    "    print(ent.text, ent.label_)"
   ]
  },
  {
   "cell_type": "code",
   "execution_count": 16,
   "id": "5ad0b77e-f159-43c7-b4ef-c4e955a348ce",
   "metadata": {
    "tags": []
   },
   "outputs": [],
   "source": [
    "# 加载英语小型核心模型\n",
    "nlp2 = spacy.load(\"en_core_web_sm\")"
   ]
  },
  {
   "cell_type": "code",
   "execution_count": 17,
   "id": "0b60af0b-1376-41fc-9d99-9787b0e1a3a6",
   "metadata": {
    "tags": []
   },
   "outputs": [],
   "source": [
    "# 在NER组件之前添加实体规则器\n",
    "ruler = nlp2.add_pipe(\"entity_ruler\", before=\"ner\")"
   ]
  },
  {
   "cell_type": "code",
   "execution_count": 18,
   "id": "7ecbd6d7-f192-4bc2-89c9-2a4fb1e793e7",
   "metadata": {
    "tags": []
   },
   "outputs": [],
   "source": [
    "# 将模式添加到规则器\n",
    "ruler.add_patterns(patterns)"
   ]
  },
  {
   "cell_type": "code",
   "execution_count": 19,
   "id": "0759f154-9762-4fa2-ad11-ad917a66eb8f",
   "metadata": {
    "tags": []
   },
   "outputs": [],
   "source": [
    "# 使用新的nlp对象处理文本\n",
    "doc2 = nlp2(text)"
   ]
  },
  {
   "cell_type": "code",
   "execution_count": 21,
   "id": "94281ce1-ca22-46d7-b6ab-439e4f66386c",
   "metadata": {
    "tags": []
   },
   "outputs": [
    {
     "name": "stdout",
     "output_type": "stream",
     "text": [
      "West Chesterfieldville GPE\n",
      "Deeds PERSON\n"
     ]
    }
   ],
   "source": [
    "# 遍历新文档中的实体并打印\n",
    "for ent in doc2.ents:\n",
    "    print(ent.text, ent.label_)"
   ]
  },
  {
   "cell_type": "code",
   "execution_count": 22,
   "id": "c3803630-d993-4c2d-ab86-26fa5c15c264",
   "metadata": {
    "tags": []
   },
   "outputs": [
    {
     "data": {
      "text/plain": [
       "{'summary': {'tok2vec': {'assigns': ['doc.tensor'],\n",
       "   'requires': [],\n",
       "   'scores': [],\n",
       "   'retokenizes': False},\n",
       "  'tagger': {'assigns': ['token.tag'],\n",
       "   'requires': [],\n",
       "   'scores': ['tag_acc'],\n",
       "   'retokenizes': False},\n",
       "  'parser': {'assigns': ['token.dep',\n",
       "    'token.head',\n",
       "    'token.is_sent_start',\n",
       "    'doc.sents'],\n",
       "   'requires': [],\n",
       "   'scores': ['dep_uas',\n",
       "    'dep_las',\n",
       "    'dep_las_per_type',\n",
       "    'sents_p',\n",
       "    'sents_r',\n",
       "    'sents_f'],\n",
       "   'retokenizes': False},\n",
       "  'attribute_ruler': {'assigns': [],\n",
       "   'requires': [],\n",
       "   'scores': [],\n",
       "   'retokenizes': False},\n",
       "  'lemmatizer': {'assigns': ['token.lemma'],\n",
       "   'requires': [],\n",
       "   'scores': ['lemma_acc'],\n",
       "   'retokenizes': False},\n",
       "  'entity_ruler': {'assigns': ['doc.ents', 'token.ent_type', 'token.ent_iob'],\n",
       "   'requires': [],\n",
       "   'scores': ['ents_f', 'ents_p', 'ents_r', 'ents_per_type'],\n",
       "   'retokenizes': False},\n",
       "  'ner': {'assigns': ['doc.ents', 'token.ent_iob', 'token.ent_type'],\n",
       "   'requires': [],\n",
       "   'scores': ['ents_f', 'ents_p', 'ents_r', 'ents_per_type'],\n",
       "   'retokenizes': False}},\n",
       " 'problems': {'tok2vec': [],\n",
       "  'tagger': [],\n",
       "  'parser': [],\n",
       "  'attribute_ruler': [],\n",
       "  'lemmatizer': [],\n",
       "  'entity_ruler': [],\n",
       "  'ner': []},\n",
       " 'attrs': {'token.lemma': {'assigns': ['lemmatizer'], 'requires': []},\n",
       "  'token.is_sent_start': {'assigns': ['parser'], 'requires': []},\n",
       "  'token.dep': {'assigns': ['parser'], 'requires': []},\n",
       "  'doc.sents': {'assigns': ['parser'], 'requires': []},\n",
       "  'doc.tensor': {'assigns': ['tok2vec'], 'requires': []},\n",
       "  'doc.ents': {'assigns': ['entity_ruler', 'ner'], 'requires': []},\n",
       "  'token.ent_type': {'assigns': ['entity_ruler', 'ner'], 'requires': []},\n",
       "  'token.ent_iob': {'assigns': ['entity_ruler', 'ner'], 'requires': []},\n",
       "  'token.tag': {'assigns': ['tagger'], 'requires': []},\n",
       "  'token.head': {'assigns': ['parser'], 'requires': []}}}"
      ]
     },
     "execution_count": 22,
     "metadata": {},
     "output_type": "execute_result"
    }
   ],
   "source": [
    "# 分析新nlp对象的管道组件\n",
    "nlp2.analyze_pipes()"
   ]
  },
  {
   "cell_type": "code",
   "execution_count": 23,
   "id": "0779aa51-9561-4c6a-8b49-be03dd83571b",
   "metadata": {
    "tags": []
   },
   "outputs": [],
   "source": [
    "# 加载英语小型核心模型\n",
    "nlp3 = spacy.load(\"en_core_web_sm\")"
   ]
  },
  {
   "cell_type": "code",
   "execution_count": 24,
   "id": "114b5ac0-cfbc-468a-9b9b-dbff0f6b35c2",
   "metadata": {
    "tags": []
   },
   "outputs": [],
   "source": [
    "# 在NER组件之前添加实体规则器\n",
    "ruler = nlp3.add_pipe(\"entity_ruler\", before=\"ner\")"
   ]
  },
  {
   "cell_type": "code",
   "execution_count": 25,
   "id": "7aeb5579-bcec-47f6-aa1f-d4cdabf6c145",
   "metadata": {
    "tags": []
   },
   "outputs": [],
   "source": [
    "# 定义新的实体模式，包括电影标签\n",
    "patterns = [\n",
    "    {\"label\": \"GPE\", \"pattern\": \"West Chesterfieldville\"},\n",
    "    {\"label\": \"FILM\", \"pattern\": \"Mr. Deeds\"}\n",
    "]"
   ]
  },
  {
   "cell_type": "code",
   "execution_count": 26,
   "id": "c59a9217-2fed-4a4c-ac51-323c1c46a883",
   "metadata": {
    "tags": []
   },
   "outputs": [],
   "source": [
    "# 将模式添加到规则器\n",
    "ruler.add_patterns(patterns)"
   ]
  },
  {
   "cell_type": "code",
   "execution_count": 27,
   "id": "d0d3fc68-a03e-4c3b-901d-3f1c4afb0020",
   "metadata": {
    "tags": []
   },
   "outputs": [],
   "source": [
    "# 使用新的nlp对象处理文本\n",
    "doc = nlp3(text)"
   ]
  },
  {
   "cell_type": "code",
   "execution_count": 29,
   "id": "a5720a57-eeda-4878-83e4-26eb42a26a4c",
   "metadata": {
    "tags": []
   },
   "outputs": [
    {
     "name": "stdout",
     "output_type": "stream",
     "text": [
      "West Chesterfieldville GPE\n",
      "Mr. Deeds FILM\n"
     ]
    }
   ],
   "source": [
    "# 遍历新文档中的实体并打印\n",
    "for ent in doc.ents:\n",
    "    print(ent.text, ent.label_)"
   ]
  }
 ],
 "metadata": {
  "kernelspec": {
   "display_name": "Python (spacy-tutorial)",
   "language": "python",
   "name": "spacy-tutorial"
  },
  "language_info": {
   "codemirror_mode": {
    "name": "ipython",
    "version": 3
   },
   "file_extension": ".py",
   "mimetype": "text/x-python",
   "name": "python",
   "nbconvert_exporter": "python",
   "pygments_lexer": "ipython3",
   "version": "3.11.9"
  }
 },
 "nbformat": 4,
 "nbformat_minor": 5
}
